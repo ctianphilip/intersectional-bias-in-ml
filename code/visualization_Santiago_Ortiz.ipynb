{
 "cells": [
  {
   "cell_type": "code",
   "execution_count": 26,
   "metadata": {},
   "outputs": [],
   "source": [
    "import numpy as np\n",
    "\n",
    "import pandas as pd\n",
    "from pandas.api.types import CategoricalDtype\n",
    "\n",
    "%matplotlib inline\n",
    "import matplotlib.pyplot as plt\n",
    "import seaborn as sns\n",
    "\n",
    "import re"
   ]
  },
  {
   "cell_type": "markdown",
   "metadata": {},
   "source": [
    "# Race"
   ]
  },
  {
   "cell_type": "code",
   "execution_count": 27,
   "metadata": {},
   "outputs": [],
   "source": [
    "final_tweets = pd.read_csv('r_d_tweets_3.csv')"
   ]
  },
  {
   "cell_type": "code",
   "execution_count": 28,
   "metadata": {},
   "outputs": [
    {
     "data": {
      "image/png": "[encoded data removed]",
      "text/plain": [
       "<Figure size 432x288 with 1 Axes>"
      ]
     },
     "metadata": {
      "needs_background": "light"
     },
     "output_type": "display_data"
    }
   ],
   "source": [
    "#find the percentage breakdown of the different dialect categories (AAE, WAE, other)\n",
    "\n",
    "sns.barplot(x = \"Racial Demographic (All)\", y = \"Racial Demographic (All)\", data = final_tweets, \n",
    "            orient = \"v\", estimator = lambda x: len(x) / len(final_tweets) * 100)\n",
    "\n",
    "plt.title(\"Percentage of Tweets Belonging to WAE, AAE, and Other\")\n",
    "\n",
    "plt.ylabel(\"Percent of Tweets\")\n",
    "plt.xlabel(\"Racial Demographic Categories\")\n",
    "plt.xticks(np.arange(3), ('AAE', 'WAE', 'Other'))\n",
    "\n",
    "plt.show()"
   ]
  },
  {
   "cell_type": "markdown",
   "metadata": {},
   "source": [
    "__Dialects__"
   ]
  },
  {
   "cell_type": "code",
   "execution_count": 29,
   "metadata": {},
   "outputs": [],
   "source": [
    "wae = final_tweets[final_tweets['Racial Demographic (All)'] == 1]\n",
    "\n",
    "counts_wae = wae.groupby(\"Type\").count()\n",
    "counts_wae = counts_wae.reset_index().rename(columns = {'Number of Votes': 'Count'})\n",
    "counts_wae['Percentage'] = counts_wae['ID'] / sum(counts_wae['ID'])\n",
    "\n",
    "counts_wae_p = np.array(counts_wae['Percentage'])"
   ]
  },
  {
   "cell_type": "code",
   "execution_count": 30,
   "metadata": {},
   "outputs": [],
   "source": [
    "aae = final_tweets[final_tweets['Racial Demographic (All)'] == 0]\n",
    "\n",
    "counts_aae = aae.groupby(\"Type\").count()\n",
    "counts_aae = counts_aae.reset_index().rename(columns = {'Number of Votes': 'Count'})\n",
    "counts_aae['Percentage'] = counts_aae['ID'] / sum(counts_aae['ID'])\n",
    "\n",
    "counts_aae_p = np.array(counts_aae['Percentage'])"
   ]
  },
  {
   "cell_type": "code",
   "execution_count": 31,
   "metadata": {},
   "outputs": [],
   "source": [
    "other = final_tweets[(final_tweets['Racial Demographic (All)'] == 2)] \n",
    "\n",
    "counts_other = other.groupby(\"Type\").count()\n",
    "counts_other = counts_other.reset_index().rename(columns = {'Number of Votes': 'Count'})\n",
    "counts_other['Percentage'] = counts_other['ID'] / sum(counts_other['ID'])\n",
    "\n",
    "counts_other_p = np.array(counts_other['Percentage'])"
   ]
  },
  {
   "cell_type": "code",
   "execution_count": 83,
   "metadata": {},
   "outputs": [],
   "source": [
    "all_tweets = final_tweets.groupby(\"Type\").count()\n",
    "all_tweets = all_tweets.reset_index().rename(columns = {'Number of Votes': 'Count'})\n",
    "all_tweets['Percentage'] = all_tweets['ID'] / sum(all_tweets['ID'])\n",
    "\n",
    "counts_all_p = np.array(all_tweets['Percentage'])"
   ]
  },
  {
   "cell_type": "code",
   "execution_count": 84,
   "metadata": {},
   "outputs": [
    {
     "data": {
      "text/html": [
       "<div>\n",
       "<style scoped>\n",
       "    .dataframe tbody tr th:only-of-type {\n",
       "        vertical-align: middle;\n",
       "    }\n",
       "\n",
       "    .dataframe tbody tr th {\n",
       "        vertical-align: top;\n",
       "    }\n",
       "\n",
       "    .dataframe thead th {\n",
       "        text-align: right;\n",
       "    }\n",
       "</style>\n",
       "<table border=\"1\" class=\"dataframe\">\n",
       "  <thead>\n",
       "    <tr style=\"text-align: right;\">\n",
       "      <th></th>\n",
       "      <th>Type</th>\n",
       "      <th>All</th>\n",
       "      <th>Other</th>\n",
       "      <th>AAE</th>\n",
       "      <th>WAE</th>\n",
       "    </tr>\n",
       "  </thead>\n",
       "  <tbody>\n",
       "    <tr>\n",
       "      <td>0</td>\n",
       "      <td>abusive</td>\n",
       "      <td>0.271514</td>\n",
       "      <td>0.445228</td>\n",
       "      <td>0.588689</td>\n",
       "      <td>0.161798</td>\n",
       "    </tr>\n",
       "    <tr>\n",
       "      <td>1</td>\n",
       "      <td>hateful</td>\n",
       "      <td>0.049652</td>\n",
       "      <td>0.036098</td>\n",
       "      <td>0.118358</td>\n",
       "      <td>0.041144</td>\n",
       "    </tr>\n",
       "    <tr>\n",
       "      <td>2</td>\n",
       "      <td>normal</td>\n",
       "      <td>0.538537</td>\n",
       "      <td>0.367632</td>\n",
       "      <td>0.215081</td>\n",
       "      <td>0.650702</td>\n",
       "    </tr>\n",
       "    <tr>\n",
       "      <td>3</td>\n",
       "      <td>spam</td>\n",
       "      <td>0.140297</td>\n",
       "      <td>0.151042</td>\n",
       "      <td>0.077871</td>\n",
       "      <td>0.146356</td>\n",
       "    </tr>\n",
       "  </tbody>\n",
       "</table>\n",
       "</div>"
      ],
      "text/plain": [
       "      Type       All     Other       AAE       WAE\n",
       "0  abusive  0.271514  0.445228  0.588689  0.161798\n",
       "1  hateful  0.049652  0.036098  0.118358  0.041144\n",
       "2   normal  0.538537  0.367632  0.215081  0.650702\n",
       "3     spam  0.140297  0.151042  0.077871  0.146356"
      ]
     },
     "execution_count": 84,
     "metadata": {},
     "output_type": "execute_result"
    }
   ],
   "source": [
    "proportions = pd.DataFrame({\"Type\": counts_wae[\"Type\"],\n",
    "                            \"All\": counts_all_p,\n",
    "                            \"Other\": counts_other_p,\n",
    "                            \"AAE\": counts_aae_p,\n",
    "                            \"WAE\": counts_wae_p\n",
    "                            })\n",
    "proportions"
   ]
  },
  {
   "cell_type": "code",
   "execution_count": 34,
   "metadata": {},
   "outputs": [
    {
     "data": {
      "text/html": [
       "<div>\n",
       "<style scoped>\n",
       "    .dataframe tbody tr th:only-of-type {\n",
       "        vertical-align: middle;\n",
       "    }\n",
       "\n",
       "    .dataframe tbody tr th {\n",
       "        vertical-align: top;\n",
       "    }\n",
       "\n",
       "    .dataframe thead th {\n",
       "        text-align: right;\n",
       "    }\n",
       "</style>\n",
       "<table border=\"1\" class=\"dataframe\">\n",
       "  <thead>\n",
       "    <tr style=\"text-align: right;\">\n",
       "      <th></th>\n",
       "      <th>Abusive</th>\n",
       "      <th>Hateful</th>\n",
       "      <th>Normal</th>\n",
       "      <th>Spam</th>\n",
       "    </tr>\n",
       "  </thead>\n",
       "  <tbody>\n",
       "    <tr>\n",
       "      <td>All</td>\n",
       "      <td>0.271514</td>\n",
       "      <td>0.0496525</td>\n",
       "      <td>0.538537</td>\n",
       "      <td>0.140297</td>\n",
       "    </tr>\n",
       "    <tr>\n",
       "      <td>Other</td>\n",
       "      <td>0.445228</td>\n",
       "      <td>0.0360982</td>\n",
       "      <td>0.367632</td>\n",
       "      <td>0.151042</td>\n",
       "    </tr>\n",
       "    <tr>\n",
       "      <td>AAE</td>\n",
       "      <td>0.588689</td>\n",
       "      <td>0.118358</td>\n",
       "      <td>0.215081</td>\n",
       "      <td>0.0778715</td>\n",
       "    </tr>\n",
       "    <tr>\n",
       "      <td>WAE</td>\n",
       "      <td>0.161798</td>\n",
       "      <td>0.041144</td>\n",
       "      <td>0.650702</td>\n",
       "      <td>0.146356</td>\n",
       "    </tr>\n",
       "  </tbody>\n",
       "</table>\n",
       "</div>"
      ],
      "text/plain": [
       "        Abusive    Hateful    Normal       Spam\n",
       "All    0.271514  0.0496525  0.538537   0.140297\n",
       "Other  0.445228  0.0360982  0.367632   0.151042\n",
       "AAE    0.588689   0.118358  0.215081  0.0778715\n",
       "WAE    0.161798   0.041144  0.650702   0.146356"
      ]
     },
     "execution_count": 34,
     "metadata": {},
     "output_type": "execute_result"
    }
   ],
   "source": [
    "new = pd.DataFrame({\n",
    "                    \"Abusive\": proportions.iloc[0, [1, 2, 3, 4]],\n",
    "                    \"Hateful\": proportions.iloc[1, [1, 2, 3, 4]],\n",
    "                    \"Normal\": proportions.iloc[2, [1, 2, 3, 4]],\n",
    "                    \"Spam\": proportions.iloc[3, [1, 2, 3, 4]]})\n",
    "                  \n",
    "new"
   ]
  },
  {
   "cell_type": "code",
   "execution_count": 35,
   "metadata": {},
   "outputs": [
    {
     "data": {
      "image/png": "[encoded data removed]",
      "text/plain": [
       "<Figure size 432x288 with 1 Axes>"
      ]
     },
     "metadata": {
      "needs_background": "light"
     },
     "output_type": "display_data"
    }
   ],
   "source": [
    "new.plot.barh(stacked = True)\n",
    "plt.legend(ncol=4, bbox_to_anchor=(0, 1),\n",
    "              loc='lower left', fontsize='medium')\n",
    "plt.tight_layout()\n",
    "\n",
    "plt.xlabel(\"Percentage\")\n",
    "plt.ylabel(\"Dialect\")\n",
    "#plt.title(\"Distribution of Types of Tweets Based on Racial Dialect\")\n",
    "\n",
    "plt.show()"
   ]
  },
  {
   "cell_type": "markdown",
   "metadata": {},
   "source": [
    "# Race and Gender"
   ]
  },
  {
   "cell_type": "code",
   "execution_count": 37,
   "metadata": {},
   "outputs": [],
   "source": [
    "url = 'https://raw.githubusercontent.com/jaeyk/bias-in-ml/master/twitter/processed_data/gender_predictions.csv?token=ANJYFSE4UUTO4JWENN3LG3S6V6TU4'\n",
    "gender_cat = pd.read_csv(url, error_bad_lines=False)"
   ]
  },
  {
   "cell_type": "code",
   "execution_count": 38,
   "metadata": {
    "scrolled": true
   },
   "outputs": [
    {
     "data": {
      "text/html": [
       "<div>\n",
       "<style scoped>\n",
       "    .dataframe tbody tr th:only-of-type {\n",
       "        vertical-align: middle;\n",
       "    }\n",
       "\n",
       "    .dataframe tbody tr th {\n",
       "        vertical-align: top;\n",
       "    }\n",
       "\n",
       "    .dataframe thead th {\n",
       "        text-align: right;\n",
       "    }\n",
       "</style>\n",
       "<table border=\"1\" class=\"dataframe\">\n",
       "  <thead>\n",
       "    <tr style=\"text-align: right;\">\n",
       "      <th></th>\n",
       "      <th>index</th>\n",
       "      <th>Unnamed: 0</th>\n",
       "      <th>text</th>\n",
       "      <th>label</th>\n",
       "      <th>votes</th>\n",
       "      <th>logistic model results</th>\n",
       "      <th>male</th>\n",
       "      <th>female</th>\n",
       "    </tr>\n",
       "  </thead>\n",
       "  <tbody>\n",
       "    <tr>\n",
       "      <td>0</td>\n",
       "      <td>1</td>\n",
       "      <td>1</td>\n",
       "      <td>rt @papapishu: man it would fucking rule if we...</td>\n",
       "      <td>abusive</td>\n",
       "      <td>4</td>\n",
       "      <td>male</td>\n",
       "      <td>1</td>\n",
       "      <td>0</td>\n",
       "    </tr>\n",
       "    <tr>\n",
       "      <td>1</td>\n",
       "      <td>2</td>\n",
       "      <td>2</td>\n",
       "      <td>it is time to draw close to him &amp;#128591;&amp;#127...</td>\n",
       "      <td>normal</td>\n",
       "      <td>4</td>\n",
       "      <td>neither</td>\n",
       "      <td>0</td>\n",
       "      <td>0</td>\n",
       "    </tr>\n",
       "    <tr>\n",
       "      <td>2</td>\n",
       "      <td>3</td>\n",
       "      <td>3</td>\n",
       "      <td>if you notice me start to act different or dis...</td>\n",
       "      <td>normal</td>\n",
       "      <td>5</td>\n",
       "      <td>female</td>\n",
       "      <td>0</td>\n",
       "      <td>1</td>\n",
       "    </tr>\n",
       "    <tr>\n",
       "      <td>3</td>\n",
       "      <td>4</td>\n",
       "      <td>4</td>\n",
       "      <td>forget unfollowers, i believe in growing. 7 ne...</td>\n",
       "      <td>normal</td>\n",
       "      <td>3</td>\n",
       "      <td>both</td>\n",
       "      <td>1</td>\n",
       "      <td>1</td>\n",
       "    </tr>\n",
       "    <tr>\n",
       "      <td>4</td>\n",
       "      <td>5</td>\n",
       "      <td>5</td>\n",
       "      <td>rt @vitiligoprince: hate being sexually frustr...</td>\n",
       "      <td>abusive</td>\n",
       "      <td>4</td>\n",
       "      <td>female</td>\n",
       "      <td>0</td>\n",
       "      <td>1</td>\n",
       "    </tr>\n",
       "  </tbody>\n",
       "</table>\n",
       "</div>"
      ],
      "text/plain": [
       "   index  Unnamed: 0                                               text  \\\n",
       "0      1           1  rt @papapishu: man it would fucking rule if we...   \n",
       "1      2           2  it is time to draw close to him &#128591;&#127...   \n",
       "2      3           3  if you notice me start to act different or dis...   \n",
       "3      4           4  forget unfollowers, i believe in growing. 7 ne...   \n",
       "4      5           5  rt @vitiligoprince: hate being sexually frustr...   \n",
       "\n",
       "     label  votes logistic model results  male  female  \n",
       "0  abusive      4                   male     1       0  \n",
       "1   normal      4                neither     0       0  \n",
       "2   normal      5                 female     0       1  \n",
       "3   normal      3                   both     1       1  \n",
       "4  abusive      4                 female     0       1  "
      ]
     },
     "execution_count": 38,
     "metadata": {},
     "output_type": "execute_result"
    }
   ],
   "source": [
    "gender = gender_cat.iloc[1:]\n",
    "gender = gender.reset_index()\n",
    "gender.head()"
   ]
  },
  {
   "cell_type": "code",
   "execution_count": 44,
   "metadata": {},
   "outputs": [
    {
     "data": {
      "text/html": [
       "<div>\n",
       "<style scoped>\n",
       "    .dataframe tbody tr th:only-of-type {\n",
       "        vertical-align: middle;\n",
       "    }\n",
       "\n",
       "    .dataframe tbody tr th {\n",
       "        vertical-align: top;\n",
       "    }\n",
       "\n",
       "    .dataframe thead th {\n",
       "        text-align: right;\n",
       "    }\n",
       "</style>\n",
       "<table border=\"1\" class=\"dataframe\">\n",
       "  <thead>\n",
       "    <tr style=\"text-align: right;\">\n",
       "      <th></th>\n",
       "      <th>ID</th>\n",
       "      <th>Tweet</th>\n",
       "      <th>Type</th>\n",
       "      <th>Number of Votes</th>\n",
       "      <th>Racial Demographic (All)</th>\n",
       "      <th>Logistic Model Results</th>\n",
       "      <th>Male</th>\n",
       "      <th>Female</th>\n",
       "    </tr>\n",
       "  </thead>\n",
       "  <tbody>\n",
       "    <tr>\n",
       "      <td>0</td>\n",
       "      <td>0</td>\n",
       "      <td>RT @Papapishu: Man it would fucking rule if we...</td>\n",
       "      <td>abusive</td>\n",
       "      <td>4</td>\n",
       "      <td>1.0</td>\n",
       "      <td>male</td>\n",
       "      <td>1</td>\n",
       "      <td>0</td>\n",
       "    </tr>\n",
       "    <tr>\n",
       "      <td>1</td>\n",
       "      <td>1</td>\n",
       "      <td>It is time to draw close to Him &amp;#128591;&amp;#127...</td>\n",
       "      <td>normal</td>\n",
       "      <td>4</td>\n",
       "      <td>1.0</td>\n",
       "      <td>neither</td>\n",
       "      <td>0</td>\n",
       "      <td>0</td>\n",
       "    </tr>\n",
       "    <tr>\n",
       "      <td>2</td>\n",
       "      <td>2</td>\n",
       "      <td>if you notice me start to act different or dis...</td>\n",
       "      <td>normal</td>\n",
       "      <td>5</td>\n",
       "      <td>0.0</td>\n",
       "      <td>female</td>\n",
       "      <td>0</td>\n",
       "      <td>1</td>\n",
       "    </tr>\n",
       "    <tr>\n",
       "      <td>3</td>\n",
       "      <td>3</td>\n",
       "      <td>Forget unfollowers, I believe in growing. 7 ne...</td>\n",
       "      <td>normal</td>\n",
       "      <td>3</td>\n",
       "      <td>1.0</td>\n",
       "      <td>both</td>\n",
       "      <td>1</td>\n",
       "      <td>1</td>\n",
       "    </tr>\n",
       "    <tr>\n",
       "      <td>4</td>\n",
       "      <td>4</td>\n",
       "      <td>RT @Vitiligoprince: Hate Being sexually Frustr...</td>\n",
       "      <td>abusive</td>\n",
       "      <td>4</td>\n",
       "      <td>0.0</td>\n",
       "      <td>female</td>\n",
       "      <td>0</td>\n",
       "      <td>1</td>\n",
       "    </tr>\n",
       "  </tbody>\n",
       "</table>\n",
       "</div>"
      ],
      "text/plain": [
       "   ID                                              Tweet     Type  \\\n",
       "0   0  RT @Papapishu: Man it would fucking rule if we...  abusive   \n",
       "1   1  It is time to draw close to Him &#128591;&#127...   normal   \n",
       "2   2  if you notice me start to act different or dis...   normal   \n",
       "3   3  Forget unfollowers, I believe in growing. 7 ne...   normal   \n",
       "4   4  RT @Vitiligoprince: Hate Being sexually Frustr...  abusive   \n",
       "\n",
       "   Number of Votes  Racial Demographic (All) Logistic Model Results  Male  \\\n",
       "0                4                       1.0                   male     1   \n",
       "1                4                       1.0                neither     0   \n",
       "2                5                       0.0                 female     0   \n",
       "3                3                       1.0                   both     1   \n",
       "4                4                       0.0                 female     0   \n",
       "\n",
       "   Female  \n",
       "0       0  \n",
       "1       0  \n",
       "2       1  \n",
       "3       1  \n",
       "4       1  "
      ]
     },
     "execution_count": 44,
     "metadata": {},
     "output_type": "execute_result"
    }
   ],
   "source": [
    "race_gender = final_tweets\n",
    "\n",
    "race_gender['Logistic Model Results'] = gender['logistic model results']\n",
    "race_gender['Male'] = gender['male']\n",
    "race_gender['Female'] = gender['female']\n",
    "\n",
    "race_gender = race_gender.drop(columns = ['Racial Demographic (Two)'])\n",
    "race_gender.head()"
   ]
  },
  {
   "cell_type": "markdown",
   "metadata": {},
   "source": [
    "__White Male__"
   ]
  },
  {
   "cell_type": "code",
   "execution_count": 74,
   "metadata": {},
   "outputs": [
    {
     "data": {
      "text/plain": [
       "15554"
      ]
     },
     "execution_count": 74,
     "metadata": {},
     "output_type": "execute_result"
    }
   ],
   "source": [
    "white_male = race_gender[race_gender['Racial Demographic (All)'] == 1]\n",
    "white_male = white_male[white_male['Male'] == 1]\n",
    "\n",
    "len(white_male)"
   ]
  },
  {
   "cell_type": "code",
   "execution_count": 75,
   "metadata": {},
   "outputs": [],
   "source": [
    "counts_wm = white_male.groupby(\"Type\").count()\n",
    "counts_wm = counts_wm.reset_index().rename(columns = {'Number of Votes': 'Count'})\n",
    "counts_wm['Percentage'] = counts_wm['ID'] / sum(counts_wm['ID'])\n",
    "\n",
    "counts_wm_p = np.array(counts_wm['Percentage'])"
   ]
  },
  {
   "cell_type": "markdown",
   "metadata": {},
   "source": [
    "__Black Male__"
   ]
  },
  {
   "cell_type": "code",
   "execution_count": 76,
   "metadata": {},
   "outputs": [
    {
     "data": {
      "text/plain": [
       "4746"
      ]
     },
     "execution_count": 76,
     "metadata": {},
     "output_type": "execute_result"
    }
   ],
   "source": [
    "black_male = race_gender[race_gender['Racial Demographic (All)'] == 0]\n",
    "black_male = black_male[black_male['Male'] == 1]\n",
    "\n",
    "len(black_male)"
   ]
  },
  {
   "cell_type": "code",
   "execution_count": 77,
   "metadata": {},
   "outputs": [],
   "source": [
    "counts_bm = black_male.groupby(\"Type\").count()\n",
    "counts_bm = counts_bm.reset_index().rename(columns = {'Number of Votes': 'Count'})\n",
    "counts_bm['Percentage'] = counts_bm['ID'] / sum(counts_bm['ID'])\n",
    "\n",
    "counts_bm_p = np.array(counts_bm['Percentage'])"
   ]
  },
  {
   "cell_type": "markdown",
   "metadata": {},
   "source": [
    "__White Female__"
   ]
  },
  {
   "cell_type": "code",
   "execution_count": 78,
   "metadata": {},
   "outputs": [
    {
     "data": {
      "text/plain": [
       "15587"
      ]
     },
     "execution_count": 78,
     "metadata": {},
     "output_type": "execute_result"
    }
   ],
   "source": [
    "white_female = race_gender[race_gender['Racial Demographic (All)'] == 1]\n",
    "white_female = white_female[white_female['Female'] == 1]\n",
    "\n",
    "len(white_female)"
   ]
  },
  {
   "cell_type": "code",
   "execution_count": 79,
   "metadata": {},
   "outputs": [],
   "source": [
    "counts_wf = white_female.groupby(\"Type\").count()\n",
    "counts_wf = counts_wf.reset_index().rename(columns = {'Number of Votes': 'Count'})\n",
    "counts_wf['Percentage'] = counts_wf['ID'] / sum(counts_wf['ID'])\n",
    "\n",
    "counts_wf_p = np.array(counts_wf['Percentage'])"
   ]
  },
  {
   "cell_type": "markdown",
   "metadata": {},
   "source": [
    "__Black Female__"
   ]
  },
  {
   "cell_type": "code",
   "execution_count": 80,
   "metadata": {},
   "outputs": [
    {
     "data": {
      "text/plain": [
       "3985"
      ]
     },
     "execution_count": 80,
     "metadata": {},
     "output_type": "execute_result"
    }
   ],
   "source": [
    "black_female = race_gender[race_gender['Racial Demographic (All)'] == 0]\n",
    "black_female = black_female[black_female['Female'] == 1]\n",
    "\n",
    "len(black_female)"
   ]
  },
  {
   "cell_type": "code",
   "execution_count": 81,
   "metadata": {},
   "outputs": [],
   "source": [
    "counts_bf = black_female.groupby(\"Type\").count()\n",
    "counts_bf = counts_bf.reset_index().rename(columns = {'Number of Votes': 'Count'})\n",
    "counts_bf['Percentage'] = counts_bf['ID'] / sum(counts_bf['ID'])\n",
    "\n",
    "counts_bf_p = np.array(counts_bf['Percentage'])"
   ]
  },
  {
   "cell_type": "markdown",
   "metadata": {},
   "source": [
    "__Stacked Barplot__"
   ]
  },
  {
   "cell_type": "code",
   "execution_count": 82,
   "metadata": {},
   "outputs": [
    {
     "data": {
      "text/html": [
       "<div>\n",
       "<style scoped>\n",
       "    .dataframe tbody tr th:only-of-type {\n",
       "        vertical-align: middle;\n",
       "    }\n",
       "\n",
       "    .dataframe tbody tr th {\n",
       "        vertical-align: top;\n",
       "    }\n",
       "\n",
       "    .dataframe thead th {\n",
       "        text-align: right;\n",
       "    }\n",
       "</style>\n",
       "<table border=\"1\" class=\"dataframe\">\n",
       "  <thead>\n",
       "    <tr style=\"text-align: right;\">\n",
       "      <th></th>\n",
       "      <th>Type</th>\n",
       "      <th>White Male</th>\n",
       "      <th>White Female</th>\n",
       "      <th>Black Male</th>\n",
       "      <th>Black Female</th>\n",
       "    </tr>\n",
       "  </thead>\n",
       "  <tbody>\n",
       "    <tr>\n",
       "      <td>0</td>\n",
       "      <td>abusive</td>\n",
       "      <td>0.209914</td>\n",
       "      <td>0.243087</td>\n",
       "      <td>0.605141</td>\n",
       "      <td>0.675282</td>\n",
       "    </tr>\n",
       "    <tr>\n",
       "      <td>1</td>\n",
       "      <td>hateful</td>\n",
       "      <td>0.057670</td>\n",
       "      <td>0.044204</td>\n",
       "      <td>0.201854</td>\n",
       "      <td>0.088331</td>\n",
       "    </tr>\n",
       "    <tr>\n",
       "      <td>2</td>\n",
       "      <td>normal</td>\n",
       "      <td>0.675389</td>\n",
       "      <td>0.636235</td>\n",
       "      <td>0.168142</td>\n",
       "      <td>0.207528</td>\n",
       "    </tr>\n",
       "    <tr>\n",
       "      <td>3</td>\n",
       "      <td>spam</td>\n",
       "      <td>0.057027</td>\n",
       "      <td>0.076474</td>\n",
       "      <td>0.024863</td>\n",
       "      <td>0.028858</td>\n",
       "    </tr>\n",
       "  </tbody>\n",
       "</table>\n",
       "</div>"
      ],
      "text/plain": [
       "      Type  White Male  White Female  Black Male  Black Female\n",
       "0  abusive    0.209914      0.243087    0.605141      0.675282\n",
       "1  hateful    0.057670      0.044204    0.201854      0.088331\n",
       "2   normal    0.675389      0.636235    0.168142      0.207528\n",
       "3     spam    0.057027      0.076474    0.024863      0.028858"
      ]
     },
     "execution_count": 82,
     "metadata": {},
     "output_type": "execute_result"
    }
   ],
   "source": [
    "proportions_rg = pd.DataFrame({\"Type\": counts_wae[\"Type\"],\n",
    "                            \"White Male\": counts_wm_p,\n",
    "                            \"White Female\": counts_wf_p,\n",
    "                            \"Black Male\": counts_bm_p,\n",
    "                            \"Black Female\": counts_bf_p\n",
    "                            })\n",
    "proportions_rg"
   ]
  },
  {
   "cell_type": "code",
   "execution_count": 85,
   "metadata": {},
   "outputs": [
    {
     "data": {
      "text/html": [
       "<div>\n",
       "<style scoped>\n",
       "    .dataframe tbody tr th:only-of-type {\n",
       "        vertical-align: middle;\n",
       "    }\n",
       "\n",
       "    .dataframe tbody tr th {\n",
       "        vertical-align: top;\n",
       "    }\n",
       "\n",
       "    .dataframe thead th {\n",
       "        text-align: right;\n",
       "    }\n",
       "</style>\n",
       "<table border=\"1\" class=\"dataframe\">\n",
       "  <thead>\n",
       "    <tr style=\"text-align: right;\">\n",
       "      <th></th>\n",
       "      <th>Abusive</th>\n",
       "      <th>Hateful</th>\n",
       "      <th>Normal</th>\n",
       "      <th>Spam</th>\n",
       "    </tr>\n",
       "  </thead>\n",
       "  <tbody>\n",
       "    <tr>\n",
       "      <td>White Male</td>\n",
       "      <td>0.209914</td>\n",
       "      <td>0.0576701</td>\n",
       "      <td>0.675389</td>\n",
       "      <td>0.0570271</td>\n",
       "    </tr>\n",
       "    <tr>\n",
       "      <td>White Female</td>\n",
       "      <td>0.243087</td>\n",
       "      <td>0.0442035</td>\n",
       "      <td>0.636235</td>\n",
       "      <td>0.076474</td>\n",
       "    </tr>\n",
       "    <tr>\n",
       "      <td>Black Male</td>\n",
       "      <td>0.605141</td>\n",
       "      <td>0.201854</td>\n",
       "      <td>0.168142</td>\n",
       "      <td>0.024863</td>\n",
       "    </tr>\n",
       "    <tr>\n",
       "      <td>Black Female</td>\n",
       "      <td>0.675282</td>\n",
       "      <td>0.0883312</td>\n",
       "      <td>0.207528</td>\n",
       "      <td>0.0288582</td>\n",
       "    </tr>\n",
       "  </tbody>\n",
       "</table>\n",
       "</div>"
      ],
      "text/plain": [
       "               Abusive    Hateful    Normal       Spam\n",
       "White Male    0.209914  0.0576701  0.675389  0.0570271\n",
       "White Female  0.243087  0.0442035  0.636235   0.076474\n",
       "Black Male    0.605141   0.201854  0.168142   0.024863\n",
       "Black Female  0.675282  0.0883312  0.207528  0.0288582"
      ]
     },
     "execution_count": 85,
     "metadata": {},
     "output_type": "execute_result"
    }
   ],
   "source": [
    "new_rg = pd.DataFrame({\n",
    "                    \"Abusive\": proportions_rg.iloc[0, [1, 2, 3, 4]],\n",
    "                    \"Hateful\": proportions_rg.iloc[1, [1, 2, 3, 4]],\n",
    "                    \"Normal\": proportions_rg.iloc[2, [1, 2, 3, 4]],\n",
    "                    \"Spam\": proportions_rg.iloc[3, [1, 2, 3, 4]]})\n",
    "                  \n",
    "new_rg"
   ]
  },
  {
   "cell_type": "code",
   "execution_count": 87,
   "metadata": {},
   "outputs": [
    {
     "data": {
      "image/png": "[encoded data removed]",
      "text/plain": [
       "<Figure size 432x288 with 1 Axes>"
      ]
     },
     "metadata": {
      "needs_background": "light"
     },
     "output_type": "display_data"
    }
   ],
   "source": [
    "new_rg.plot.barh(stacked = True)\n",
    "plt.legend(ncol=4, bbox_to_anchor=(0, 1),\n",
    "              loc='lower left', fontsize='medium')\n",
    "plt.tight_layout()\n",
    "\n",
    "plt.xlabel(\"Percentage\")\n",
    "plt.ylabel(\"Demographic\")\n",
    "\n",
    "plt.show()"
   ]
  },
  {
   "cell_type": "code",
   "execution_count": null,
   "metadata": {},
   "outputs": [],
   "source": []
  }
 ],
 "metadata": {
  "kernelspec": {
   "display_name": "Python 3",
   "language": "python",
   "name": "python3"
  },
  "language_info": {
   "codemirror_mode": {
    "name": "ipython",
    "version": 3
   },
   "file_extension": ".py",
   "mimetype": "text/x-python",
   "name": "python",
   "nbconvert_exporter": "python",
   "pygments_lexer": "ipython3",
   "version": "3.7.4"
  }
 },
 "nbformat": 4,
 "nbformat_minor": 2
}
