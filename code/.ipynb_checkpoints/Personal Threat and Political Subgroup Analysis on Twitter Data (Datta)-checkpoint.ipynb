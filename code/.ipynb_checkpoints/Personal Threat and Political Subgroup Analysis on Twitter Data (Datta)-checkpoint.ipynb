{
 "cells": [
  {
   "cell_type": "markdown",
   "metadata": {},
   "source": [
    "# Personal Attacks and Political Subgroup Analysis on Twitter "
   ]
  },
  {
   "cell_type": "code",
   "execution_count": 29,
   "metadata": {},
   "outputs": [
    {
     "data": {
      "text/html": [
       "        <script type=\"text/javascript\">\n",
       "        window.PlotlyConfig = {MathJaxConfig: 'local'};\n",
       "        if (window.MathJax) {MathJax.Hub.Config({SVG: {font: \"STIX-Web\"}});}\n",
       "        if (typeof require !== 'undefined') {\n",
       "        require.undef(\"plotly\");\n",
       "        requirejs.config({\n",
       "            paths: {\n",
       "                'plotly': ['https://cdn.plot.ly/plotly-latest.min']\n",
       "            }\n",
       "        });\n",
       "        require(['plotly'], function(Plotly) {\n",
       "            window._Plotly = Plotly;\n",
       "        });\n",
       "        }\n",
       "        </script>\n",
       "        "
      ]
     },
     "metadata": {},
     "output_type": "display_data"
    },
    {
     "ename": "NameError",
     "evalue": "name 'warnings' is not defined",
     "output_type": "error",
     "traceback": [
      "\u001b[0;31m---------------------------------------------------------------------------\u001b[0m",
      "\u001b[0;31mNameError\u001b[0m                                 Traceback (most recent call last)",
      "\u001b[0;32m<ipython-input-29-ffe1c837a5e8>\u001b[0m in \u001b[0;36m<module>\u001b[0;34m\u001b[0m\n\u001b[1;32m     14\u001b[0m \u001b[0;32mfrom\u001b[0m \u001b[0msklearn\u001b[0m\u001b[0;34m.\u001b[0m\u001b[0mlinear_model\u001b[0m \u001b[0;32mimport\u001b[0m \u001b[0mLogisticRegression\u001b[0m\u001b[0;34m\u001b[0m\u001b[0;34m\u001b[0m\u001b[0m\n\u001b[1;32m     15\u001b[0m \u001b[0;32mfrom\u001b[0m \u001b[0msklearn\u001b[0m\u001b[0;34m.\u001b[0m\u001b[0mmetrics\u001b[0m \u001b[0;32mimport\u001b[0m \u001b[0mroc_auc_score\u001b[0m\u001b[0;34m\u001b[0m\u001b[0;34m\u001b[0m\u001b[0m\n\u001b[0;32m---> 16\u001b[0;31m \u001b[0mwarnings\u001b[0m\u001b[0;34m.\u001b[0m\u001b[0mfilterwarnings\u001b[0m\u001b[0;34m(\u001b[0m\u001b[0;34m'ignore'\u001b[0m\u001b[0;34m)\u001b[0m\u001b[0;34m\u001b[0m\u001b[0;34m\u001b[0m\u001b[0m\n\u001b[0m",
      "\u001b[0;31mNameError\u001b[0m: name 'warnings' is not defined"
     ]
    }
   ],
   "source": [
    "import pandas as pd\n",
    "import matplotlib.pyplot as plt\n",
    "import numpy as np\n",
    "import seaborn as sns\n",
    "from collections import Counter\n",
    "from textblob import TextBlob\n",
    "from plotly.offline import download_plotlyjs, init_notebook_mode, plot, iplot \n",
    "init_notebook_mode(connected=True)\n",
    "\n",
    "import urllib\n",
    "from sklearn.pipeline import Pipeline\n",
    "from sklearn.feature_extraction.text import CountVectorizer\n",
    "from sklearn.feature_extraction.text import TfidfTransformer\n",
    "from sklearn.linear_model import LogisticRegression\n",
    "from sklearn.metrics import roc_auc_score\n",
    "warnings.filterwarnings('ignore')"
   ]
  },
  {
   "cell_type": "code",
   "execution_count": 2,
   "metadata": {},
   "outputs": [
    {
     "data": {
      "text/html": [
       "<div>\n",
       "<style scoped>\n",
       "    .dataframe tbody tr th:only-of-type {\n",
       "        vertical-align: middle;\n",
       "    }\n",
       "\n",
       "    .dataframe tbody tr th {\n",
       "        vertical-align: top;\n",
       "    }\n",
       "\n",
       "    .dataframe thead th {\n",
       "        text-align: right;\n",
       "    }\n",
       "</style>\n",
       "<table border=\"1\" class=\"dataframe\">\n",
       "  <thead>\n",
       "    <tr style=\"text-align: right;\">\n",
       "      <th></th>\n",
       "      <th>Tweet</th>\n",
       "      <th>Type</th>\n",
       "      <th>Number of Votes</th>\n",
       "    </tr>\n",
       "  </thead>\n",
       "  <tbody>\n",
       "    <tr>\n",
       "      <th>0</th>\n",
       "      <td>RT @Papapishu: Man it would fucking rule if we...</td>\n",
       "      <td>abusive</td>\n",
       "      <td>4</td>\n",
       "    </tr>\n",
       "    <tr>\n",
       "      <th>1</th>\n",
       "      <td>It is time to draw close to Him &amp;#128591;&amp;#127...</td>\n",
       "      <td>normal</td>\n",
       "      <td>4</td>\n",
       "    </tr>\n",
       "    <tr>\n",
       "      <th>2</th>\n",
       "      <td>if you notice me start to act different or dis...</td>\n",
       "      <td>normal</td>\n",
       "      <td>5</td>\n",
       "    </tr>\n",
       "    <tr>\n",
       "      <th>3</th>\n",
       "      <td>Forget unfollowers, I believe in growing. 7 ne...</td>\n",
       "      <td>normal</td>\n",
       "      <td>3</td>\n",
       "    </tr>\n",
       "    <tr>\n",
       "      <th>4</th>\n",
       "      <td>RT @Vitiligoprince: Hate Being sexually Frustr...</td>\n",
       "      <td>abusive</td>\n",
       "      <td>4</td>\n",
       "    </tr>\n",
       "  </tbody>\n",
       "</table>\n",
       "</div>"
      ],
      "text/plain": [
       "                                               Tweet     Type  Number of Votes\n",
       "0  RT @Papapishu: Man it would fucking rule if we...  abusive                4\n",
       "1  It is time to draw close to Him &#128591;&#127...   normal                4\n",
       "2  if you notice me start to act different or dis...   normal                5\n",
       "3  Forget unfollowers, I believe in growing. 7 ne...   normal                3\n",
       "4  RT @Vitiligoprince: Hate Being sexually Frustr...  abusive                4"
      ]
     },
     "execution_count": 2,
     "metadata": {},
     "output_type": "execute_result"
    }
   ],
   "source": [
    "data = pd.read_csv('tweet.csv')\n",
    "data.drop('Unnamed: 0', axis=1, inplace=True)\n",
    "data.head()"
   ]
  },
  {
   "cell_type": "code",
   "execution_count": 3,
   "metadata": {},
   "outputs": [
    {
     "data": {
      "text/html": [
       "<div>\n",
       "<style scoped>\n",
       "    .dataframe tbody tr th:only-of-type {\n",
       "        vertical-align: middle;\n",
       "    }\n",
       "\n",
       "    .dataframe tbody tr th {\n",
       "        vertical-align: top;\n",
       "    }\n",
       "\n",
       "    .dataframe thead th {\n",
       "        text-align: right;\n",
       "    }\n",
       "</style>\n",
       "<table border=\"1\" class=\"dataframe\">\n",
       "  <thead>\n",
       "    <tr style=\"text-align: right;\">\n",
       "      <th></th>\n",
       "      <th>Tweet</th>\n",
       "      <th>Type</th>\n",
       "      <th>Number of Votes</th>\n",
       "    </tr>\n",
       "  </thead>\n",
       "  <tbody>\n",
       "    <tr>\n",
       "      <th>0</th>\n",
       "      <td>man it would fucking rule if we had a party ...</td>\n",
       "      <td>abusive</td>\n",
       "      <td>4</td>\n",
       "    </tr>\n",
       "    <tr>\n",
       "      <th>1</th>\n",
       "      <td>it is time to draw close to him 128591127995 f...</td>\n",
       "      <td>normal</td>\n",
       "      <td>4</td>\n",
       "    </tr>\n",
       "    <tr>\n",
       "      <th>2</th>\n",
       "      <td>if you notice me start to act different or dis...</td>\n",
       "      <td>normal</td>\n",
       "      <td>5</td>\n",
       "    </tr>\n",
       "    <tr>\n",
       "      <th>3</th>\n",
       "      <td>forget unfollowers i believe in growing 7 new ...</td>\n",
       "      <td>normal</td>\n",
       "      <td>3</td>\n",
       "    </tr>\n",
       "    <tr>\n",
       "      <th>4</th>\n",
       "      <td>hate being sexually frustrated like i wanna ...</td>\n",
       "      <td>abusive</td>\n",
       "      <td>4</td>\n",
       "    </tr>\n",
       "  </tbody>\n",
       "</table>\n",
       "</div>"
      ],
      "text/plain": [
       "                                               Tweet     Type  Number of Votes\n",
       "0    man it would fucking rule if we had a party ...  abusive                4\n",
       "1  it is time to draw close to him 128591127995 f...   normal                4\n",
       "2  if you notice me start to act different or dis...   normal                5\n",
       "3  forget unfollowers i believe in growing 7 new ...   normal                3\n",
       "4    hate being sexually frustrated like i wanna ...  abusive                4"
      ]
     },
     "execution_count": 3,
     "metadata": {},
     "output_type": "execute_result"
    }
   ],
   "source": [
    "url_re = r'http\\S+'\n",
    "at_re = r'@[\\w]*'\n",
    "rt_re = r'^[rt]{2}'\n",
    "punct_re = r'[^\\w\\s]'\n",
    "\n",
    "data['Tweet'] = data['Tweet'].str.lower() # Lower Case\n",
    "data['Tweet'] = data['Tweet'].str.replace(url_re, '') # Remove Links/URL\n",
    "data['Tweet'] = data['Tweet'].str.replace(at_re, '') # Remove @\n",
    "data['Tweet'] = data['Tweet'].str.replace(rt_re, '') # Remove rt\n",
    "data['Tweet'] = data['Tweet'].str.replace(punct_re, '') # Remove Punctation\n",
    "\n",
    "data.head()"
   ]
  },
  {
   "cell_type": "markdown",
   "metadata": {},
   "source": [
    "## Section 1: Personal Attacks"
   ]
  },
  {
   "cell_type": "markdown",
   "metadata": {},
   "source": [
    "Adapted from https://github.com/ewulczyn/wiki-detox/blob/master/src/figshare/Wikipedia%20Talk%20Data%20-%20Getting%20Started.ipynb"
   ]
  },
  {
   "cell_type": "code",
   "execution_count": 4,
   "metadata": {},
   "outputs": [],
   "source": [
    "# download annotated comments and annotations\n",
    "\n",
    "ANNOTATED_COMMENTS_URL = 'https://ndownloader.figshare.com/files/7554634' \n",
    "ANNOTATIONS_URL = 'https://ndownloader.figshare.com/files/7554637' \n",
    "\n",
    "\n",
    "def download_file(url, fname):\n",
    "    urllib.request.urlretrieve(url, fname)\n",
    "\n",
    "                \n",
    "download_file(ANNOTATED_COMMENTS_URL, 'attack_annotated_comments.tsv')\n",
    "download_file(ANNOTATIONS_URL, 'attack_annotations.tsv')"
   ]
  },
  {
   "cell_type": "code",
   "execution_count": 6,
   "metadata": {},
   "outputs": [],
   "source": [
    "comments = pd.read_csv('attack_annotated_comments.tsv', sep = '\\t', index_col = 0)\n",
    "annotations = pd.read_csv('attack_annotations.tsv',  sep = '\\t')"
   ]
  },
  {
   "cell_type": "code",
   "execution_count": 7,
   "metadata": {},
   "outputs": [
    {
     "data": {
      "text/plain": [
       "115864"
      ]
     },
     "execution_count": 7,
     "metadata": {},
     "output_type": "execute_result"
    }
   ],
   "source": [
    "len(annotations['rev_id'].unique())"
   ]
  },
  {
   "cell_type": "code",
   "execution_count": 8,
   "metadata": {},
   "outputs": [],
   "source": [
    "# labels a comment as an atack if the majority of annotators did so\n",
    "labels = annotations.groupby('rev_id')['attack'].mean() > 0.5\n",
    "comments['attack'] = labels"
   ]
  },
  {
   "cell_type": "code",
   "execution_count": 9,
   "metadata": {},
   "outputs": [
    {
     "name": "stderr",
     "output_type": "stream",
     "text": [
      "/usr/local/lib/python3.7/site-packages/sklearn/linear_model/logistic.py:432: FutureWarning:\n",
      "\n",
      "Default solver will be changed to 'lbfgs' in 0.22. Specify a solver to silence this warning.\n",
      "\n"
     ]
    },
    {
     "name": "stdout",
     "output_type": "stream",
     "text": [
      "Test ROC AUC: 0.954\n"
     ]
    }
   ],
   "source": [
    "# fit a simple text classifier\n",
    "\n",
    "train_comments = comments.query(\"split=='train'\")\n",
    "test_comments = comments.query(\"split=='test'\")\n",
    "\n",
    "clf = Pipeline([\n",
    "    ('vect', CountVectorizer(max_features = 10000, ngram_range = (1,2))),\n",
    "    ('tfidf', TfidfTransformer(norm = 'l2')),\n",
    "    ('clf', LogisticRegression()),\n",
    "])\n",
    "clf = clf.fit(train_comments['comment'], train_comments['attack'])\n",
    "auc = roc_auc_score(test_comments['attack'], clf.predict_proba(test_comments['comment'])[:, 1])\n",
    "print('Test ROC AUC: %.3f' %auc)"
   ]
  },
  {
   "cell_type": "code",
   "execution_count": 10,
   "metadata": {},
   "outputs": [
    {
     "data": {
      "text/html": [
       "<div>\n",
       "<style scoped>\n",
       "    .dataframe tbody tr th:only-of-type {\n",
       "        vertical-align: middle;\n",
       "    }\n",
       "\n",
       "    .dataframe tbody tr th {\n",
       "        vertical-align: top;\n",
       "    }\n",
       "\n",
       "    .dataframe thead th {\n",
       "        text-align: right;\n",
       "    }\n",
       "</style>\n",
       "<table border=\"1\" class=\"dataframe\">\n",
       "  <thead>\n",
       "    <tr style=\"text-align: right;\">\n",
       "      <th></th>\n",
       "      <th>Tweet</th>\n",
       "      <th>Type</th>\n",
       "      <th>Number of Votes</th>\n",
       "      <th>Personal Attack?</th>\n",
       "      <th>Polarity</th>\n",
       "    </tr>\n",
       "  </thead>\n",
       "  <tbody>\n",
       "    <tr>\n",
       "      <th>0</th>\n",
       "      <td>man it would fucking rule if we had a party ...</td>\n",
       "      <td>abusive</td>\n",
       "      <td>4</td>\n",
       "      <td>False</td>\n",
       "      <td>-0.600000</td>\n",
       "    </tr>\n",
       "    <tr>\n",
       "      <th>1</th>\n",
       "      <td>it is time to draw close to him 128591127995 f...</td>\n",
       "      <td>normal</td>\n",
       "      <td>4</td>\n",
       "      <td>False</td>\n",
       "      <td>0.100000</td>\n",
       "    </tr>\n",
       "    <tr>\n",
       "      <th>2</th>\n",
       "      <td>if you notice me start to act different or dis...</td>\n",
       "      <td>normal</td>\n",
       "      <td>5</td>\n",
       "      <td>False</td>\n",
       "      <td>-0.050000</td>\n",
       "    </tr>\n",
       "    <tr>\n",
       "      <th>3</th>\n",
       "      <td>forget unfollowers i believe in growing 7 new ...</td>\n",
       "      <td>normal</td>\n",
       "      <td>3</td>\n",
       "      <td>False</td>\n",
       "      <td>0.068182</td>\n",
       "    </tr>\n",
       "    <tr>\n",
       "      <th>4</th>\n",
       "      <td>hate being sexually frustrated like i wanna ...</td>\n",
       "      <td>abusive</td>\n",
       "      <td>4</td>\n",
       "      <td>True</td>\n",
       "      <td>-0.575000</td>\n",
       "    </tr>\n",
       "    <tr>\n",
       "      <th>...</th>\n",
       "      <td>...</td>\n",
       "      <td>...</td>\n",
       "      <td>...</td>\n",
       "      <td>...</td>\n",
       "      <td>...</td>\n",
       "    </tr>\n",
       "    <tr>\n",
       "      <th>134451</th>\n",
       "      <td>my fucking queen</td>\n",
       "      <td>abusive</td>\n",
       "      <td>5</td>\n",
       "      <td>True</td>\n",
       "      <td>-0.600000</td>\n",
       "    </tr>\n",
       "    <tr>\n",
       "      <th>134452</th>\n",
       "      <td>osteporosis treated with pemf  rebuild bone ma...</td>\n",
       "      <td>normal</td>\n",
       "      <td>3</td>\n",
       "      <td>False</td>\n",
       "      <td>0.000000</td>\n",
       "    </tr>\n",
       "    <tr>\n",
       "      <th>134453</th>\n",
       "      <td>why does my phone screen keeps flickring im s...</td>\n",
       "      <td>normal</td>\n",
       "      <td>3</td>\n",
       "      <td>False</td>\n",
       "      <td>-0.562500</td>\n",
       "    </tr>\n",
       "    <tr>\n",
       "      <th>134454</th>\n",
       "      <td>bigdata vs reality  but equally applies to any...</td>\n",
       "      <td>normal</td>\n",
       "      <td>5</td>\n",
       "      <td>False</td>\n",
       "      <td>0.000000</td>\n",
       "    </tr>\n",
       "    <tr>\n",
       "      <th>134455</th>\n",
       "      <td>you can do whatever you choose if you first ge...</td>\n",
       "      <td>normal</td>\n",
       "      <td>5</td>\n",
       "      <td>False</td>\n",
       "      <td>0.333333</td>\n",
       "    </tr>\n",
       "  </tbody>\n",
       "</table>\n",
       "<p>134456 rows × 5 columns</p>\n",
       "</div>"
      ],
      "text/plain": [
       "                                                    Tweet     Type  \\\n",
       "0         man it would fucking rule if we had a party ...  abusive   \n",
       "1       it is time to draw close to him 128591127995 f...   normal   \n",
       "2       if you notice me start to act different or dis...   normal   \n",
       "3       forget unfollowers i believe in growing 7 new ...   normal   \n",
       "4         hate being sexually frustrated like i wanna ...  abusive   \n",
       "...                                                   ...      ...   \n",
       "134451                                  my fucking queen   abusive   \n",
       "134452  osteporosis treated with pemf  rebuild bone ma...   normal   \n",
       "134453   why does my phone screen keeps flickring im s...   normal   \n",
       "134454  bigdata vs reality  but equally applies to any...   normal   \n",
       "134455  you can do whatever you choose if you first ge...   normal   \n",
       "\n",
       "        Number of Votes  Personal Attack?  Polarity  \n",
       "0                     4             False -0.600000  \n",
       "1                     4             False  0.100000  \n",
       "2                     5             False -0.050000  \n",
       "3                     3             False  0.068182  \n",
       "4                     4              True -0.575000  \n",
       "...                 ...               ...       ...  \n",
       "134451                5              True -0.600000  \n",
       "134452                3             False  0.000000  \n",
       "134453                3             False -0.562500  \n",
       "134454                5             False  0.000000  \n",
       "134455                5             False  0.333333  \n",
       "\n",
       "[134456 rows x 5 columns]"
      ]
     },
     "execution_count": 10,
     "metadata": {},
     "output_type": "execute_result"
    }
   ],
   "source": [
    "data['Personal Attack?'] = [clf.predict([tweet + \"\"])[0] for tweet in data['Tweet']]\n",
    "data['Polarity'] = data['Tweet'].map(lambda text: TextBlob(text).sentiment.polarity)\n",
    "data"
   ]
  },
  {
   "cell_type": "markdown",
   "metadata": {},
   "source": [
    "## Section 2: Political Subgroups"
   ]
  },
  {
   "cell_type": "markdown",
   "metadata": {},
   "source": [
    "Adapted from https://github.com/chouhbik/Sentiment-Analysis-of-Tweets/blob/master/Tweets%20Analysis%20DemvsRep.ipynb"
   ]
  },
  {
   "cell_type": "code",
   "execution_count": 34,
   "metadata": {},
   "outputs": [],
   "source": [
    "from sklearn.feature_extraction.text import TfidfVectorizer, CountVectorizer\n",
    "from sklearn.metrics import  accuracy_score\n",
    "from sklearn.model_selection import train_test_split\n",
    "from plotly.offline import init_notebook_mode,iplot\n",
    "from sklearn.linear_model import LogisticRegression\n",
    "from nltk.stem.lancaster import LancasterStemmer\n",
    "from sklearn.tree import DecisionTreeClassifier\n",
    "from sklearn.ensemble import AdaBoostClassifier\n",
    "from spacy.lang.en.stop_words import STOP_WORDS\n",
    "from sklearn.naive_bayes import MultinomialNB\n",
    "from nltk.probability import FreqDist\n",
    "from gensim.models import Word2Vec\n",
    "from nltk.corpus import stopwords\n",
    "from wordcloud import WordCloud\n",
    "from wordcloud import STOPWORDS\n",
    "from textblob import TextBlob\n",
    "from nltk.text import Text  \n",
    "import nltk as nlp\n",
    "import re\n"
   ]
  },
  {
   "cell_type": "code",
   "execution_count": 12,
   "metadata": {},
   "outputs": [],
   "source": [
    "model_data = pd.read_csv(\"ExtractedTweets.csv\")\n",
    "model_data.dropna(axis = 0, inplace = True)\n",
    "model_data[\"Party_log\"] = [1 if each == \"Democrat\" else 0 for each in model_data.Party]"
   ]
  },
  {
   "cell_type": "code",
   "execution_count": 13,
   "metadata": {},
   "outputs": [],
   "source": [
    "#add some unnecessary words to STOPWORDS list\n",
    "STOPWORDS.add(\"rt\")\n",
    "STOPWORDS.add(\"s\")\n",
    "STOPWORDS.add(\"u\")\n",
    "STOPWORDS.add(\"amp\")\n",
    "STOPWORDS.add(\"th\")\n",
    "STOPWORDS.add(\"will\")\n",
    "STOPWORDS.add(\"t\")\n",
    "STOPWORDS.add(\"m\")"
   ]
  },
  {
   "cell_type": "code",
   "execution_count": 15,
   "metadata": {},
   "outputs": [],
   "source": [
    "democrat=model_data[model_data.Party==\"Democrat\"]\n",
    "republican=model_data[model_data.Party==\"Republican\"]"
   ]
  },
  {
   "cell_type": "code",
   "execution_count": 24,
   "metadata": {},
   "outputs": [],
   "source": [
    "democrat_list=[]\n",
    "for d in democrat.Tweet:\n",
    "    d=re.sub(r'http\\S+', '', d) #remove links\n",
    "    d=re.sub(\"[^a-zA-Z]\", \" \", d) #remove all characters except letters\n",
    "    d=d.lower() #convert all words to lowercase\n",
    "    d=nltk.word_tokenize(d) #split sentences into word\n",
    "    d=[word for word in d if not word in STOPWORDS] #remove the stopwords\n",
    "    lemma=nlp.WordNetLemmatizer() \n",
    "    d=[lemma.lemmatize(word) for word in d] #identify the correct form of the word in the dictionary\n",
    "    d=\" \".join(d)\n",
    "    democrat_list.append(d) #append words to list\n",
    "\n",
    "republican_list=[]\n",
    "for r in republican.Tweet:\n",
    "    r=re.sub(r'http\\S+', '', r)\n",
    "    r=re.sub(\"[^a-zA-Z]\", \" \", r)\n",
    "    r=r.lower()\n",
    "    r=nltk.word_tokenize(r)\n",
    "    r=[word for word in r if not word in STOPWORDS]\n",
    "    lemma=nlp.WordNetLemmatizer()\n",
    "    r=[lemma.lemmatize(word) for word in r]\n",
    "    r=\" \".join(r)\n",
    "    republican_list.append(r)"
   ]
  },
  {
   "cell_type": "code",
   "execution_count": 25,
   "metadata": {},
   "outputs": [
    {
     "data": {
      "text/plain": [
       "((60521, 4), (25938, 4))"
      ]
     },
     "execution_count": 25,
     "metadata": {},
     "output_type": "execute_result"
    }
   ],
   "source": [
    "train, test = train_test_split(model_data, test_size=0.3, train_size=0.7, random_state=14)\n",
    "train.shape, test.shape"
   ]
  },
  {
   "cell_type": "code",
   "execution_count": 26,
   "metadata": {},
   "outputs": [
    {
     "data": {
      "text/html": [
       "<div>\n",
       "<style scoped>\n",
       "    .dataframe tbody tr th:only-of-type {\n",
       "        vertical-align: middle;\n",
       "    }\n",
       "\n",
       "    .dataframe tbody tr th {\n",
       "        vertical-align: top;\n",
       "    }\n",
       "\n",
       "    .dataframe thead th {\n",
       "        text-align: right;\n",
       "    }\n",
       "</style>\n",
       "<table border=\"1\" class=\"dataframe\">\n",
       "  <thead>\n",
       "    <tr style=\"text-align: right;\">\n",
       "      <th></th>\n",
       "      <th>Party</th>\n",
       "      <th>Handle</th>\n",
       "      <th>Tweet</th>\n",
       "      <th>Party_log</th>\n",
       "    </tr>\n",
       "  </thead>\n",
       "  <tbody>\n",
       "    <tr>\n",
       "      <th>53928</th>\n",
       "      <td>Republican</td>\n",
       "      <td>HouseJudiciary</td>\n",
       "      <td>Safeguarding Trade Secrets in the United State...</td>\n",
       "      <td>0</td>\n",
       "    </tr>\n",
       "    <tr>\n",
       "      <th>50957</th>\n",
       "      <td>Republican</td>\n",
       "      <td>RepCurbelo</td>\n",
       "      <td>@DefendOurFuture Finding new ways to de-politi...</td>\n",
       "      <td>0</td>\n",
       "    </tr>\n",
       "    <tr>\n",
       "      <th>39092</th>\n",
       "      <td>Democrat</td>\n",
       "      <td>repjimcooper</td>\n",
       "      <td>The final results are in, and 3,007 new high s...</td>\n",
       "      <td>1</td>\n",
       "    </tr>\n",
       "    <tr>\n",
       "      <th>60545</th>\n",
       "      <td>Republican</td>\n",
       "      <td>RepHalRogers</td>\n",
       "      <td>RT @WhiteHouse: \"Last year, I also pledged tha...</td>\n",
       "      <td>0</td>\n",
       "    </tr>\n",
       "    <tr>\n",
       "      <th>75135</th>\n",
       "      <td>Republican</td>\n",
       "      <td>repdonyoung</td>\n",
       "      <td>Happy birthday to my good friend, @SpeakerRyan...</td>\n",
       "      <td>0</td>\n",
       "    </tr>\n",
       "  </tbody>\n",
       "</table>\n",
       "</div>"
      ],
      "text/plain": [
       "            Party          Handle  \\\n",
       "53928  Republican  HouseJudiciary   \n",
       "50957  Republican      RepCurbelo   \n",
       "39092    Democrat    repjimcooper   \n",
       "60545  Republican    RepHalRogers   \n",
       "75135  Republican     repdonyoung   \n",
       "\n",
       "                                                   Tweet  Party_log  \n",
       "53928  Safeguarding Trade Secrets in the United State...          0  \n",
       "50957  @DefendOurFuture Finding new ways to de-politi...          0  \n",
       "39092  The final results are in, and 3,007 new high s...          1  \n",
       "60545  RT @WhiteHouse: \"Last year, I also pledged tha...          0  \n",
       "75135  Happy birthday to my good friend, @SpeakerRyan...          0  "
      ]
     },
     "execution_count": 26,
     "metadata": {},
     "output_type": "execute_result"
    }
   ],
   "source": [
    "train.head()"
   ]
  },
  {
   "cell_type": "code",
   "execution_count": 27,
   "metadata": {},
   "outputs": [],
   "source": [
    "st = LancasterStemmer()\n",
    "\n",
    "def token(text):\n",
    "    txt = nltk.word_tokenize(text.lower())\n",
    "    return [st.stem(word) for word in txt]\n",
    "\n",
    "\n",
    "cv = CountVectorizer(lowercase=True, \n",
    "                     tokenizer=token, stop_words=STOPWORDS,\n",
    "                     analyzer=u'word', min_df=4)\n"
   ]
  },
  {
   "cell_type": "code",
   "execution_count": 30,
   "metadata": {},
   "outputs": [],
   "source": [
    "vec_train = cv.fit_transform(train['Tweet'].tolist())\n",
    "vec_test = cv.transform(test['Tweet'].tolist())\n",
    "prediction_input_data = cv.transform(data['Tweet'].tolist())"
   ]
  },
  {
   "cell_type": "code",
   "execution_count": 35,
   "metadata": {},
   "outputs": [
    {
     "data": {
      "text/plain": [
       "0.7869535045107564"
      ]
     },
     "execution_count": 35,
     "metadata": {},
     "output_type": "execute_result"
    }
   ],
   "source": [
    "lr = LogisticRegression()\n",
    "lr.fit(X = vec_train, y = train['Party_log'])\n",
    "\n",
    "y_pred_lr=lr.predict(vec_test)\n",
    "accuracy_score(y_pred_lr, test['Party_log'])"
   ]
  },
  {
   "cell_type": "code",
   "execution_count": 36,
   "metadata": {},
   "outputs": [],
   "source": [
    "y_pred_data = lr.predict(prediction_input_data)"
   ]
  },
  {
   "cell_type": "code",
   "execution_count": 37,
   "metadata": {},
   "outputs": [
    {
     "data": {
      "text/html": [
       "<div>\n",
       "<style scoped>\n",
       "    .dataframe tbody tr th:only-of-type {\n",
       "        vertical-align: middle;\n",
       "    }\n",
       "\n",
       "    .dataframe tbody tr th {\n",
       "        vertical-align: top;\n",
       "    }\n",
       "\n",
       "    .dataframe thead th {\n",
       "        text-align: right;\n",
       "    }\n",
       "</style>\n",
       "<table border=\"1\" class=\"dataframe\">\n",
       "  <thead>\n",
       "    <tr style=\"text-align: right;\">\n",
       "      <th></th>\n",
       "      <th>Tweet</th>\n",
       "      <th>Type</th>\n",
       "      <th>Number of Votes</th>\n",
       "      <th>Personal Attack?</th>\n",
       "      <th>Polarity</th>\n",
       "      <th>Political Leaning</th>\n",
       "    </tr>\n",
       "  </thead>\n",
       "  <tbody>\n",
       "    <tr>\n",
       "      <th>0</th>\n",
       "      <td>man it would fucking rule if we had a party ...</td>\n",
       "      <td>abusive</td>\n",
       "      <td>4</td>\n",
       "      <td>False</td>\n",
       "      <td>-0.600000</td>\n",
       "      <td>Democrat</td>\n",
       "    </tr>\n",
       "    <tr>\n",
       "      <th>1</th>\n",
       "      <td>it is time to draw close to him 128591127995 f...</td>\n",
       "      <td>normal</td>\n",
       "      <td>4</td>\n",
       "      <td>False</td>\n",
       "      <td>0.100000</td>\n",
       "      <td>Democrat</td>\n",
       "    </tr>\n",
       "    <tr>\n",
       "      <th>2</th>\n",
       "      <td>if you notice me start to act different or dis...</td>\n",
       "      <td>normal</td>\n",
       "      <td>5</td>\n",
       "      <td>False</td>\n",
       "      <td>-0.050000</td>\n",
       "      <td>Democrat</td>\n",
       "    </tr>\n",
       "    <tr>\n",
       "      <th>3</th>\n",
       "      <td>forget unfollowers i believe in growing 7 new ...</td>\n",
       "      <td>normal</td>\n",
       "      <td>3</td>\n",
       "      <td>False</td>\n",
       "      <td>0.068182</td>\n",
       "      <td>Democrat</td>\n",
       "    </tr>\n",
       "    <tr>\n",
       "      <th>4</th>\n",
       "      <td>hate being sexually frustrated like i wanna ...</td>\n",
       "      <td>abusive</td>\n",
       "      <td>4</td>\n",
       "      <td>True</td>\n",
       "      <td>-0.575000</td>\n",
       "      <td>Democrat</td>\n",
       "    </tr>\n",
       "    <tr>\n",
       "      <th>...</th>\n",
       "      <td>...</td>\n",
       "      <td>...</td>\n",
       "      <td>...</td>\n",
       "      <td>...</td>\n",
       "      <td>...</td>\n",
       "      <td>...</td>\n",
       "    </tr>\n",
       "    <tr>\n",
       "      <th>134451</th>\n",
       "      <td>my fucking queen</td>\n",
       "      <td>abusive</td>\n",
       "      <td>5</td>\n",
       "      <td>True</td>\n",
       "      <td>-0.600000</td>\n",
       "      <td>Republican</td>\n",
       "    </tr>\n",
       "    <tr>\n",
       "      <th>134452</th>\n",
       "      <td>osteporosis treated with pemf  rebuild bone ma...</td>\n",
       "      <td>normal</td>\n",
       "      <td>3</td>\n",
       "      <td>False</td>\n",
       "      <td>0.000000</td>\n",
       "      <td>Democrat</td>\n",
       "    </tr>\n",
       "    <tr>\n",
       "      <th>134453</th>\n",
       "      <td>why does my phone screen keeps flickring im s...</td>\n",
       "      <td>normal</td>\n",
       "      <td>3</td>\n",
       "      <td>False</td>\n",
       "      <td>-0.562500</td>\n",
       "      <td>Democrat</td>\n",
       "    </tr>\n",
       "    <tr>\n",
       "      <th>134454</th>\n",
       "      <td>bigdata vs reality  but equally applies to any...</td>\n",
       "      <td>normal</td>\n",
       "      <td>5</td>\n",
       "      <td>False</td>\n",
       "      <td>0.000000</td>\n",
       "      <td>Republican</td>\n",
       "    </tr>\n",
       "    <tr>\n",
       "      <th>134455</th>\n",
       "      <td>you can do whatever you choose if you first ge...</td>\n",
       "      <td>normal</td>\n",
       "      <td>5</td>\n",
       "      <td>False</td>\n",
       "      <td>0.333333</td>\n",
       "      <td>Democrat</td>\n",
       "    </tr>\n",
       "  </tbody>\n",
       "</table>\n",
       "<p>134456 rows × 6 columns</p>\n",
       "</div>"
      ],
      "text/plain": [
       "                                                    Tweet     Type  \\\n",
       "0         man it would fucking rule if we had a party ...  abusive   \n",
       "1       it is time to draw close to him 128591127995 f...   normal   \n",
       "2       if you notice me start to act different or dis...   normal   \n",
       "3       forget unfollowers i believe in growing 7 new ...   normal   \n",
       "4         hate being sexually frustrated like i wanna ...  abusive   \n",
       "...                                                   ...      ...   \n",
       "134451                                  my fucking queen   abusive   \n",
       "134452  osteporosis treated with pemf  rebuild bone ma...   normal   \n",
       "134453   why does my phone screen keeps flickring im s...   normal   \n",
       "134454  bigdata vs reality  but equally applies to any...   normal   \n",
       "134455  you can do whatever you choose if you first ge...   normal   \n",
       "\n",
       "        Number of Votes  Personal Attack?  Polarity Political Leaning  \n",
       "0                     4             False -0.600000          Democrat  \n",
       "1                     4             False  0.100000          Democrat  \n",
       "2                     5             False -0.050000          Democrat  \n",
       "3                     3             False  0.068182          Democrat  \n",
       "4                     4              True -0.575000          Democrat  \n",
       "...                 ...               ...       ...               ...  \n",
       "134451                5              True -0.600000        Republican  \n",
       "134452                3             False  0.000000          Democrat  \n",
       "134453                3             False -0.562500          Democrat  \n",
       "134454                5             False  0.000000        Republican  \n",
       "134455                5             False  0.333333          Democrat  \n",
       "\n",
       "[134456 rows x 6 columns]"
      ]
     },
     "execution_count": 37,
     "metadata": {},
     "output_type": "execute_result"
    }
   ],
   "source": [
    "data['Political Leaning'] = [\"Democrat\" if val == 0 else \"Republican\" for val in y_pred_data]\n",
    "data"
   ]
  },
  {
   "cell_type": "code",
   "execution_count": null,
   "metadata": {},
   "outputs": [],
   "source": []
  }
 ],
 "metadata": {
  "kernelspec": {
   "display_name": "Python 3",
   "language": "python",
   "name": "python3"
  },
  "language_info": {
   "codemirror_mode": {
    "name": "ipython",
    "version": 3
   },
   "file_extension": ".py",
   "mimetype": "text/x-python",
   "name": "python",
   "nbconvert_exporter": "python",
   "pygments_lexer": "ipython3",
   "version": "3.7.4"
  },
  "toc": {
   "base_numbering": 1,
   "nav_menu": {},
   "number_sections": true,
   "sideBar": true,
   "skip_h1_title": false,
   "title_cell": "Table of Contents",
   "title_sidebar": "Contents",
   "toc_cell": false,
   "toc_position": {},
   "toc_section_display": true,
   "toc_window_display": false
  }
 },
 "nbformat": 4,
 "nbformat_minor": 2
}
